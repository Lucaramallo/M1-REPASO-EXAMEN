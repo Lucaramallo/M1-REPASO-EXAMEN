{
 "cells": [
  {
   "cell_type": "code",
   "execution_count": 278,
   "metadata": {},
   "outputs": [
    {
     "data": {
      "text/plain": [
       "(55, 55)"
      ]
     },
     "execution_count": 278,
     "metadata": {},
     "output_type": "execute_result"
    }
   ],
   "source": [
    "\n",
    "def Ret_Pregunta01( ):\n",
    "    '''\n",
    "    Debes utilizar Pandas para ingestar en un objeto Dataframe el contenido del archivo provisto\n",
    "    \"Fuentes_Consumo_Energia.csv\".\n",
    "    Esta función debe informar la cantidad de registros cuya entidad sean Colombia o México retornando ese valor en un dato de tipo tupla (catidad de registros Colombia, catidad de registros México).\n",
    "    Pista: averiguar la funcion Shape\n",
    "    '''\n",
    "    # #Tu código aca:\n",
    "    \n",
    "    # Debes utilizar Pandas\n",
    "    # para ingestar en un objeto Dataframe el contenido del archivo provisto Fuentes_Consumo_Energia.csv\".\n",
    "   \n",
    "    \n",
    "    import pandas as pd\n",
    "\n",
    "    df1 = pd.read_csv(r'./datasets/Fuentes_Consumo_Energia.csv', sep = ',',encoding='UTF-8')\n",
    "    \n",
    "   \n",
    "    df1_limpio = df1.dropna().drop_duplicates()\n",
    "    \n",
    "   \n",
    "\n",
    "    #print(df1.info())\n",
    "\n",
    "    # Esta función debe informar la cantidad de registros cuya entidad sean Colombia o México\n",
    "    # retornando ese valor en un dato de tipo tupla\n",
    "\n",
    "    resultado_colombia = df1_limpio[(df1_limpio['Entity'] == 'Colombia') ].shape[0]\n",
    "    \n",
    "    resultado_mexico = df1_limpio[(df1_limpio['Entity'] == 'Mexico') ].shape[0]\n",
    "    \n",
    "    resultado = (resultado_colombia, resultado_mexico)\n",
    "    #print(type(resultado))\n",
    "    #print(resultado)\n",
    "    # (catidad de registros Colombia, catidad de registros México).\n",
    "    # \n",
    "    # Pista: averiguar la funcion Shape\n",
    "\n",
    "    \n",
    "\n",
    "    return resultado\n",
    "\n",
    "Ret_Pregunta01()\n",
    "\n"
   ]
  },
  {
   "cell_type": "code",
   "execution_count": 277,
   "metadata": {},
   "outputs": [
    {
     "data": {
      "text/plain": [
       "9"
      ]
     },
     "execution_count": 277,
     "metadata": {},
     "output_type": "execute_result"
    }
   ],
   "source": [
    "def Ret_Pregunta02():\n",
    "    '''\n",
    "    Debes utilizar Pandas para ingestar en un objeto Dataframe el contenido del archivo provisto\n",
    "    \"Fuentes_Consumo_Energia.csv\".\n",
    "    Esta función debe eliminar las columnas 'Code' y 'Entity' y luego informar la cantidad de columnas\n",
    "    retornando ese valor en un dato de tipo entero.\n",
    "    '''\n",
    "    # #Tu código aca:\n",
    "    # Debes utilizar Pandas\n",
    "    \n",
    "    #  para ingestar en un objeto Dataframe el contenido del archivo provisto \"Fuentes_Consumo_Energia.csv\".\n",
    "    \n",
    "    import pandas as pd\n",
    "\n",
    "    df2 = pd.read_csv(r'./datasets/Fuentes_Consumo_Energia.csv', sep = ',',encoding='UTF-8')\n",
    "    df2_limpio = df2.dropna().drop_duplicates()\n",
    "    \n",
    "    # Esta función debe eliminar las columnas 'Code' y 'Entity' y luego informar la cantidad de columnas\n",
    "    # retornando ese valor en un dato de tipo entero.\n",
    "\n",
    "    code_column = df2_limpio.pop(item= 'Code')\n",
    "    \n",
    "    entity_colum = df2_limpio.pop(item= 'Entity')\n",
    "\n",
    "    #resultado2 = type(df2_limpio.shape[1]) verificacion tipy int\n",
    "    resultado2 = df2_limpio.shape[1]\n",
    "    \n",
    "    \n",
    "    # Esta función debe eliminar las columnas 'Code' y 'Entity' y luego informar la cantidad de columnas\n",
    "    # retornando ese valor en un dato de tipo entero.\n",
    "\n",
    "\n",
    "    return resultado2\n",
    "\n",
    "Ret_Pregunta02()"
   ]
  },
  {
   "cell_type": "code",
   "execution_count": 276,
   "metadata": {},
   "outputs": [
    {
     "name": "stdout",
     "output_type": "stream",
     "text": [
      "5190\n"
     ]
    },
    {
     "data": {
      "text/plain": [
       "5190"
      ]
     },
     "execution_count": 276,
     "metadata": {},
     "output_type": "execute_result"
    }
   ],
   "source": [
    "def Ret_Pregunta03():\n",
    "    '''\n",
    "    Debes utilizar Pandas para ingestar en un objeto Dataframe el contenido del archivo provisto\n",
    "    \"Fuentes_Consumo_Energia.csv\".\n",
    "    Esta función debe informar la cantidad de registros de la columna Year sin tener en cuenta aquellos con valores faltantes\n",
    "    retornando ese valor en un dato de tipo entero.\n",
    "    '''\n",
    "    # #Tu código aca:\n",
    "    # Debes utilizar Pandas\n",
    "    \n",
    "    #  para ingestar en un objeto Dataframe el contenido del archivo provisto \"Fuentes_Consumo_Energia.csv\".\n",
    "    \n",
    "    import pandas as pd\n",
    "\n",
    "    df3 = pd.read_csv(r'./datasets/Fuentes_Consumo_Energia.csv', sep = ',',encoding='UTF-8')\n",
    "    df3_limpio = df3.dropna().drop_duplicates()\n",
    "    resultado3 = df3['Year'].shape[0]\n",
    "\n",
    "    # Esta función debe informar la cantidad de registros de la columna Year\n",
    "    \n",
    "    # sin tener en cuenta aquellos con valores faltantes\n",
    "    # retornando ese valor en un dato de tipo entero.\n",
    "    print(resultado3)\n",
    "    return resultado3\n",
    "\n",
    "Ret_Pregunta03()"
   ]
  },
  {
   "cell_type": "code",
   "execution_count": 275,
   "metadata": {},
   "outputs": [
    {
     "data": {
      "text/plain": [
       "5189    1.367616e+08\n",
       "Name: Consumo_Total, dtype: float64"
      ]
     },
     "execution_count": 275,
     "metadata": {},
     "output_type": "execute_result"
    }
   ],
   "source": [
    "def Ret_Pregunta04():\n",
    "    '''\n",
    "    Debes utilizar Pandas para ingestar en un objeto Dataframe el contenido del archivo provisto\n",
    "    \"Fuentes_Consumo_Energia.csv\".\n",
    "    El ExaJulio es una unidad diferentes al TWh, es decir, no tiene sentido sumarlos o\n",
    "    buscar proporciones entre ellos, la fórmula de conversión es:\n",
    "    277.778 Teravatios/Hora (TWh) = 1 Exajulio\n",
    "    Los campos terminados en \"_EJ\" corresponden a mediciones en Exajulios,\n",
    "    y los terminados en \"_TWh\" corresponden a Teravatios/Hora.\n",
    "    La consigna es crear un nuevo campo, que se denomine \"Consumo_Total\"\n",
    "    y que guarde la sumatoria de todos los consumos expresados en Teravatios/Hora\n",
    "    (convirtiendo a esta medida los que están en Exajulios)\n",
    "    Esta función debe informar el consumo total para la entidad 'World' y año '2019',\n",
    "    redondeado a 2 decimales, retornando ese valor en un dato de tipo float.\n",
    "    '''\n",
    "    # #Tu código aca:\n",
    "    # Debes utilizar Pandas\n",
    "    \n",
    "    #  para ingestar en un objeto Dataframe el contenido del archivo provisto \"Fuentes_Consumo_Energia.csv\".\n",
    "    \n",
    "    import pandas as pd\n",
    "\n",
    "    df4 = pd.read_csv(r'./datasets/Fuentes_Consumo_Energia.csv', sep = ',',encoding='UTF-8')\n",
    "    df4_limpio = df4.dropna().drop_duplicates()\n",
    "    \n",
    "    \n",
    "\n",
    "    # El ExaJulio es una unidad diferentes al TWh, es decir, no tiene sentido sumarlos o\n",
    "    # buscar proporciones entre ellos.  \n",
    "    # \n",
    "    #  la fórmula de conversión es:\n",
    "    # 277.778 Teravatios/Hora (TWh) = 1 Exajulio\n",
    "    \n",
    "\n",
    "    # Los campos terminados en \"_EJ\" corresponden a mediciones en Exajulios,\n",
    "    # son los que debo transformar a teravatios /hora la conversion:\n",
    "    \n",
    "    # los terminados en \"_TWh\" corresponden a Teravatios/Hora \n",
    "    \n",
    "    df4_limpio['Coal_Consumption_EJ'] = df4_limpio['Coal_Consumption_EJ']*277778\n",
    "    \n",
    "    df4_limpio['Gas_Consumption_EJ'] = df4_limpio['Gas_Consumption_EJ']*277778\n",
    "\n",
    "    df4_limpio['Oil_Consumption_EJ'] = df4_limpio['Oil_Consumption_EJ']*277778\n",
    "    \n",
    "   \n",
    "   \n",
    "   \n",
    "    # La consigna es crear un nuevo campo, que se denomine \"Consumo_Total\"\n",
    "    # y que guarde la sumatoria de todos los consumos expresados en Teravatios/Hora\n",
    "    # (convirtiendo a esta medida los que están en Exajulios)\n",
    "    \n",
    "\n",
    "\n",
    "\n",
    "    df4_limpio['Consumo_Total'] = df4_limpio['Coal_Consumption_EJ'] + df4_limpio['Gas_Consumption_EJ'] +  df4_limpio['Oil_Consumption_EJ']        #suma de las dos columnas guardadas en nueva ccol.\n",
    "   \n",
    "    \n",
    "\n",
    "\n",
    "\n",
    "\n",
    "\n",
    "    # Esta función debe informar el consumo total para la entidad 'World' y año '2019',\n",
    "    # redondeado a 2 decimales, retornando ese valor en un dato de tipo float.\n",
    "\n",
    "    nuevo_df4 = (df4_limpio[(df4_limpio['Entity'] == 'World') & (df4_limpio['Year'] == 2019)])\n",
    "    resultado4 = nuevo_df4['Consumo_Total'].round(decimals= 2).astype(float)\n",
    "    resultado4 = resultado4.round(decimals=3).astype(float) \n",
    "    #print(resultado4)\n",
    "    return resultado4\n",
    "\n",
    "Ret_Pregunta04()"
   ]
  },
  {
   "cell_type": "code",
   "execution_count": 274,
   "metadata": {},
   "outputs": [
    {
     "data": {
      "text/plain": [
       "4222"
      ]
     },
     "execution_count": 274,
     "metadata": {},
     "output_type": "execute_result"
    }
   ],
   "source": [
    "def Ret_Pregunta05():\n",
    "    '''\n",
    "    Debes utilizar Pandas para ingestar en un objeto Dataframe el contenido del archivo provisto\n",
    "    \"Fuentes_Consumo_Energia.csv\".\n",
    "    Esta función debe informar el año de mayor generación de energía hídrica (Hydro_Generation_TWh)\n",
    "    para la entidad 'Europe' retornando ese valor en un dato de tipo entero.\n",
    "    '''\n",
    "    #Tu código aca:\n",
    "    \n",
    "    # Debes utilizar Pandas\n",
    "    \n",
    "    #  para ingestar en un objeto Dataframe el contenido del archivo provisto \"Fuentes_Consumo_Energia.csv\".\n",
    "    \n",
    "    import pandas as pd\n",
    "\n",
    "    df5 = pd.read_csv(r'./datasets/Fuentes_Consumo_Energia.csv', sep = ',',encoding='UTF-8')\n",
    "    df5_limpio = df5.dropna().drop_duplicates()\n",
    "    \n",
    "    #resultado5 = df5_limpio\n",
    "\n",
    "\n",
    "    # Esta función debe informar el año de mayor generación de energía hídrica (Hydro_Generation_TWh)\n",
    "    \n",
    "    resultado5 = df5_limpio[['Entity'] == ['Europe']] =  df5_limpio['Hydro_Generation_TWh'].max()\n",
    "    \n",
    "    resultado5_1 = resultado5.astype(int)\n",
    "    # para la entidad 'Europe' retornando ese valor en un dato de tipo entero.\n",
    "\n",
    "    \n",
    "\n",
    "\n",
    "    #print(resultado5_1)\n",
    "    return resultado5_1\n",
    "\n",
    "Ret_Pregunta05()"
   ]
  },
  {
   "cell_type": "code",
   "execution_count": 248,
   "metadata": {},
   "outputs": [
    {
     "name": "stdout",
     "output_type": "stream",
     "text": [
      "(3, 3)\n",
      "(3, 2)\n",
      "(2, 2)\n"
     ]
    },
    {
     "data": {
      "text/plain": [
       "True"
      ]
     },
     "execution_count": 248,
     "metadata": {},
     "output_type": "execute_result"
    }
   ],
   "source": [
    "n1 = np.array([[0,0,0],[1,1,1],[2,2,2]])\n",
    "n2 = np.array([[3,3],[4,4],[5,5]])\n",
    "n3 = np.array([[1,1],[2,2]])\n",
    "\n",
    "m1= n1\n",
    "m2= n2\n",
    "m3= n3\n",
    "\n",
    "def Ret_Pregunta06(m1, m2, m3):\n",
    "    '''\n",
    "    Esta función recibe tres array de Numpy de 2 dimensiones cada uno, y devuelve el valor booleano\n",
    "    True si es posible realizar una multiplicación entre las tres matrices (n1 x n2 x n3),\n",
    "    y el valor booleano False si no lo es\n",
    "    Ej:\n",
    "        n1 = np.array([[0,0,0],[1,1,1],[2,2,2]])\n",
    "        n2 = np.array([[3,3],[4,4],[5,5]])\n",
    "        n3 = np.array([1,1],[2,2])\n",
    "        print(Ret_Pregunta06(n1,n2,n3))\n",
    "            True            -> Valor devuelto por la función en este ejemplo\n",
    "        print(Ret_Pregunta06(n2,n1,n3))\n",
    "            False            -> Valor devuelto por la función en este ejemplo\n",
    "    '''\n",
    "    #Tu código aca:\n",
    "\n",
    "    # Esta función recibe tres array de Numpy de 2\n",
    "    # dimensiones cada uno,\n",
    "    import numpy as np\n",
    "\n",
    "    if m1.shape[1] == m2.shape[0] and m2.shape[1] == m3.shape[0]:\n",
    "        resultado6 = True\n",
    "    else:\n",
    "        resultado6 = False\n",
    "        \n",
    "    print(m1.shape)\n",
    "    print(m2.shape)\n",
    "    print(m3.shape)\n",
    "\n",
    "    \n",
    "    #  y devuelve el valor booleano\n",
    "    # True si es posible realizar una multiplicación entre las tres matrices (n1 x n2 x n3),\n",
    "    # y el valor booleano False si no lo es\n",
    "    # Ej:\n",
    "    #     n1 = np.array([[0,0,0],[1,1,1],[2,2,2]])\n",
    "    #     n2 = np.array([[3,3],[4,4],[5,5]])\n",
    "    #     n3 = np.array([1,1],[2,2])\n",
    "    #     print(Ret_Pregunta06(n1,n2,n3))\n",
    "    #         True            -> Valor devuelto por la función en este ejemplo\n",
    "    #     print(Ret_Pregunta06(n2,n1,n3))\n",
    "    #         False            -> Valor devuelto por la función en este ejemplo\n",
    "    \n",
    "    \n",
    "\n",
    "    #print(resultado6)\n",
    "    return resultado6\n",
    "\n",
    "Ret_Pregunta06(m1,m2,m3)"
   ]
  },
  {
   "cell_type": "code",
   "execution_count": 270,
   "metadata": {},
   "outputs": [
    {
     "data": {
      "text/plain": [
       "202185.8933"
      ]
     },
     "execution_count": 270,
     "metadata": {},
     "output_type": "execute_result"
    }
   ],
   "source": [
    "def Ret_Pregunta07():\n",
    "    '''\n",
    "    Debes utilizar Pandas para ingestar en un objeto Dataframe el contenido del archivo provisto \n",
    "    \"GGAL - Cotizaciones historicas.csv\". Este csv contiene información de cotización de la \n",
    "    acción del Banco Galcia SA. Esta función debe tomar la columna máximo y \n",
    "    devolver la suma de los valores de esta, con 4 decimales después del punto, redondeado.\n",
    "    '''\n",
    "    # #Tu código aca:\n",
    "    # Debes utilizar Pandas para ingestar en un objeto Dataframe el contenido del archivo provisto \n",
    "    # \"GGAL - Cotizaciones historicas.csv\". \n",
    "    import pandas as pd\n",
    "    # Este csv contiene información de cotización de la \n",
    "    # acción del Banco Galcia SA.\n",
    "    df7 = pd.read_csv(r'./datasets/GGAL - Cotizaciones historicas.csv', sep = ',',encoding='UTF-8')\n",
    "    df7_limpio = df7.dropna().drop_duplicates()\n",
    "    #resultado7 =df7_limpio.\n",
    "     \n",
    "    \n",
    "    # Esta función debe tomar la columna máximo y \n",
    "    # devolver la suma de los valores de esta, con 4 decimales después del punto, redondeado.\n",
    "    \n",
    "    resultado7 = df7_limpio['maximo'].sum().round(decimals= 4)\n",
    "   \n",
    "   #print(resultado5)\n",
    "    return resultado7\n",
    "\n",
    "Ret_Pregunta07()"
   ]
  },
  {
   "cell_type": "code",
   "execution_count": 268,
   "metadata": {},
   "outputs": [
    {
     "data": {
      "text/plain": [
       "11"
      ]
     },
     "execution_count": 268,
     "metadata": {},
     "output_type": "execute_result"
    }
   ],
   "source": [
    "def Ret_Pregunta08():\n",
    "    '''\n",
    "    Debes utilizar Pandas para ingestar en un objeto Dataframe el contenido del archivo provisto\n",
    "    \"Fuentes_Consumo_Energia.csv\".\n",
    "    Esta función debe informar la cantidad de entidades diferentes que están presentes en el dataset\n",
    "    retornando ese valor en un dato de tipo entero.\n",
    "    '''\n",
    "    # #Tu código aca:\n",
    "    # Debes utilizar Pandas\n",
    "    \n",
    "    #  para ingestar en un objeto Dataframe el contenido del archivo provisto \"Fuentes_Consumo_Energia.csv\".\n",
    "    \n",
    "    import pandas as pd\n",
    "\n",
    "    df8 = pd.read_csv(r'./datasets/Fuentes_Consumo_Energia.csv', sep = ',',encoding='UTF-8')\n",
    "    shapedf8 =df8.dropna().shape\n",
    "    \n",
    "    can_ent = shapedf8[1]\n",
    "    can_ent_type = type(can_ent)\n",
    "    # Esta función debe informar la cantidad de entidades diferentes\n",
    "    # que están presentes en el dataset\n",
    "     \n",
    "    \n",
    "    \n",
    "    # retornando ese valor en un dato de tipo entero.\n",
    "\n",
    "\n",
    "    \n",
    "    \n",
    "    return can_ent\n",
    "\n",
    "Ret_Pregunta08()"
   ]
  },
  {
   "cell_type": "code",
   "execution_count": 383,
   "metadata": {},
   "outputs": [
    {
     "data": {
      "text/plain": [
       "(630.261911750318, 772.2811111111112)"
      ]
     },
     "execution_count": 383,
     "metadata": {},
     "output_type": "execute_result"
    }
   ],
   "source": [
    "def Ret_Pregunta09():\n",
    "    '''\n",
    "    Debes utilizar Pandas para ingestar en un objeto Dataframe el contenido del archivo provisto\n",
    "    \"datasets/Tabla1_ejercicio.csv\" y \"datasets/Tabla2_ejercicio.csv\".\n",
    "    Esta función debe retornar: score_promedio_femenino y score_promedio_masculino en formato tupla, teniendo en cuenta que no debe haber valores repetidos.'''\n",
    "    #Tu código aca:\n",
    "    \n",
    "    # Debes utilizar Pandas para ingestar en un objeto Dataframe el contenido del archivo provisto\n",
    "    # \"datasets/Tabla1_ejercicio.csv\" y \"datasets/Tabla2_ejercicio.csv\".\n",
    "\n",
    "    import pandas as pd\n",
    "\n",
    "    df_T1 = pd.read_csv(r'./datasets/Tabla1_ejercicio.csv', sep = ';',encoding='UTF-8')\n",
    "    df_T1_lim = df_T1.dropna().drop_duplicates()\n",
    "\n",
    "    #rta.info()\n",
    "\n",
    "    df_T2 = pd.read_csv(r'./datasets/Tabla2_ejercicio.csv', sep = ';',encoding='UTF-8')\n",
    "    df_T2_lim = df_T2.dropna().drop_duplicates()\n",
    "\n",
    "    #df_T1_lim.info()\n",
    "    \n",
    "    #df_T2_lim.info()\n",
    "    \n",
    "    #debo concatenar bien los dos df...\n",
    "\n",
    "    df_9 = pd.merge(df_T1_lim, df_T2_lim, on=['pers_id'])\n",
    "    df_9.drop_duplicates()\n",
    "    df_9.dropna()\n",
    "    \n",
    "\n",
    "    \n",
    "    # Esta función debe retornar: score_promedio_femenino y score_promedio_masculino en formato tupla,\n",
    "    #  teniendo en cuenta que no debe haber valores repetidos.'''\n",
    "    df_9_1 = pd.DataFrame(df_9.groupby('sexo')['score'].mean())   \n",
    "\n",
    "    tupla_rta = tuple(df_9_1['score'].to_dict().items())\n",
    "    tupla_rta = tupla_rta[0][1],tupla_rta[1][1]\n",
    "\n",
    "    return tupla_rta\n",
    "    \n",
    "Ret_Pregunta09()"
   ]
  },
  {
   "cell_type": "code",
   "execution_count": 386,
   "metadata": {},
   "outputs": [
    {
     "ename": "SyntaxError",
     "evalue": "invalid syntax (2881519967.py, line 62)",
     "output_type": "error",
     "traceback": [
      "\u001b[1;36m  Cell \u001b[1;32mIn [386], line 62\u001b[1;36m\u001b[0m\n\u001b[1;33m    lis = Lista[]\u001b[0m\n\u001b[1;37m                ^\u001b[0m\n\u001b[1;31mSyntaxError\u001b[0m\u001b[1;31m:\u001b[0m invalid syntax\n"
     ]
    }
   ],
   "source": [
    "def Ret_Pregunta10(lista):\n",
    "    '''\n",
    "    Esta función recibe como parámetro un objeto de la clase Lista() definida en el archivo Lista.py.\n",
    "    Debe recorrer la lista y retornan la cantidad de nodos que posee. Utilizar el método de la clase\n",
    "    Lista llamado getCabecera()\n",
    "    Ejemplo:\n",
    "        lis = Lista()\n",
    "        lista.agregarElemento(1)\n",
    "        lista.agregarElemento(2)\n",
    "        lista.agregarElemento(3)\n",
    "        print(Ret_Pregunta10(lista))\n",
    "            3    -> Debe ser el valor devuelto por la función Ret_Pregunta10() en este ejemplo\n",
    "    '''\n",
    "    #Tu código aca:\n",
    "    \n",
    "    class Nodo():\n",
    "        def __init__(self, dato):\n",
    "            self.__dato = dato\n",
    "            self.__siguiente = None\n",
    "\n",
    "        def getDato(self):\n",
    "            return self.__dato\n",
    "\n",
    "        def getSiguiente(self):\n",
    "            return self.__siguiente\n",
    "\n",
    "        def setDato(self, val):\n",
    "            self.__dato = val\n",
    "\n",
    "        def setSiguiente(self, val):\n",
    "            self.__siguiente = val\n",
    "\n",
    "    class Lista():\n",
    "        def __init__(self):\n",
    "            self.__cabecera = None\n",
    "\n",
    "        def agregarElemento(self,dato):\n",
    "            if (self.__cabecera != None):\n",
    "                puntero = self.__cabecera\n",
    "                while(puntero != None):\n",
    "                    if(puntero.getSiguiente() == None):\n",
    "                        puntero.setSiguiente(Nodo(dato))\n",
    "                        break\n",
    "                    puntero = puntero.getSiguiente()\n",
    "            else:\n",
    "                self.__cabecera = Nodo(dato)\n",
    "\n",
    "        def contarElementos(self):\n",
    "            if (self.__cabecera == None):\n",
    "                return 0\n",
    "            else:\n",
    "                contador = 1\n",
    "                puntero = self.__cabecera\n",
    "                while(puntero.getSiguiente() != None):\n",
    "                    contador += 1\n",
    "                    puntero = puntero.getSiguiente()\n",
    "                return contador\n",
    "\n",
    "        def getCabecera(self):\n",
    "            return self.__cabecera\n",
    "    \n",
    "lis = Lista[]\n",
    "lista.agregarElemento(1)\n",
    "lista.agregarElemento(2)\n",
    "lista.agregarElemento(3)\n",
    "print(Ret_Pregunta10(lista))"
   ]
  }
 ],
 "metadata": {
  "kernelspec": {
   "display_name": "Python 3",
   "language": "python",
   "name": "python3"
  },
  "language_info": {
   "codemirror_mode": {
    "name": "ipython",
    "version": 3
   },
   "file_extension": ".py",
   "mimetype": "text/x-python",
   "name": "python",
   "nbconvert_exporter": "python",
   "pygments_lexer": "ipython3",
   "version": "3.10.9"
  },
  "orig_nbformat": 4,
  "vscode": {
   "interpreter": {
    "hash": "957a0973b20c9ca410cb31745b8585db68510eafaadcea06bf68cd1027372551"
   }
  }
 },
 "nbformat": 4,
 "nbformat_minor": 2
}
